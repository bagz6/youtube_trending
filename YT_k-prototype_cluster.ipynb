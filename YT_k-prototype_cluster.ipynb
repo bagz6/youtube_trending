{
 "cells": [
  {
   "cell_type": "code",
   "execution_count": 5,
   "id": "97dc5b6e",
   "metadata": {},
   "outputs": [
    {
     "name": "stderr",
     "output_type": "stream",
     "text": [
      " 20%|██        | 1/5 [01:30<06:02, 90.55s/it]"
     ]
    },
    {
     "name": "stdout",
     "output_type": "stream",
     "text": [
      "Cluster initiation: 1\n"
     ]
    },
    {
     "name": "stderr",
     "output_type": "stream",
     "text": [
      "\r",
      " 40%|████      | 2/5 [04:10<06:33, 131.27s/it]"
     ]
    },
    {
     "name": "stdout",
     "output_type": "stream",
     "text": [
      "Cluster initiation: 2\n"
     ]
    },
    {
     "name": "stderr",
     "output_type": "stream",
     "text": [
      "\r",
      " 60%|██████    | 3/5 [08:12<06:04, 182.08s/it]"
     ]
    },
    {
     "name": "stdout",
     "output_type": "stream",
     "text": [
      "Cluster initiation: 3\n"
     ]
    },
    {
     "name": "stderr",
     "output_type": "stream",
     "text": [
      "\r",
      " 80%|████████  | 4/5 [12:06<03:22, 202.30s/it]"
     ]
    },
    {
     "name": "stdout",
     "output_type": "stream",
     "text": [
      "Cluster initiation: 4\n"
     ]
    },
    {
     "name": "stderr",
     "output_type": "stream",
     "text": [
      "100%|██████████| 5/5 [19:22<00:00, 232.55s/it]"
     ]
    },
    {
     "name": "stdout",
     "output_type": "stream",
     "text": [
      "Cluster initiation: 5\n"
     ]
    },
    {
     "name": "stderr",
     "output_type": "stream",
     "text": [
      "\n"
     ]
    }
   ],
   "source": [
    "import pandas as pd\n",
    "import json\n",
    "import numpy as np\n",
    "from plotnine import *\n",
    "import plotnine\n",
    "from kmodes.kprototypes import KPrototypes\n",
    "import warnings\n",
    "import matplotlib.pyplot as plt\n",
    "from tqdm import tqdm\n",
    "\n",
    "# load json and view in dataframe\n",
    "path_to_json_file = \"d:/delman.io/youtube-categories.json\"\n",
    "\n",
    "\n",
    "json_file = open(path_to_json_file, 'r')\n",
    "loaded_json = json_file.read()\n",
    "json_file.close()\n",
    "df_json = pd.read_json(loaded_json)\n",
    "df_json_snippet = pd.json_normalize(df_json[\"snippet\"], sep = \",\")\n",
    "df_json2 = df_json[['kind', 'etag', 'id']]\n",
    "df_json_final = pd.merge(df_json2, df_json_snippet, left_index=True, right_index=True)\n",
    "\n",
    "#load parquet\n",
    "path_to_parquet_file = \"d:/delman.io/youtube-videos.parquet\"\n",
    "\n",
    "df_parquet = pd.read_parquet(path_to_parquet_file, engine='pyarrow')\n",
    "# print('Dimension data: {} rows and {} columns'.format(len(df_parquet), len(df_parquet.columns)))\n",
    "df_join = pd.merge(df_parquet, df_json_final, left_on='category_id', right_on='id')\n",
    "df_join_final = df_join.loc[:,('title_x', 'channel_title', 'title_y', 'tags', 'views', 'likes', 'dislikes', 'comment_count','description')]\n",
    "df_join_final.rename(columns = {'title_x':'video_title', 'title_y':'category_title'}, inplace = True)\n",
    "\n",
    "# The distribution of category_title\n",
    "df_category_title = pd.DataFrame(df_join_final['category_title'].value_counts()).reset_index()\n",
    "df_category_title['Percentage'] = df_category_title['category_title'] / df_join_final['category_title'].value_counts().sum()\n",
    "df_category_title.rename(columns = {'index':'category_title', 'category_title':'Total'}, inplace = True)\n",
    "df_category_title = df_category_title.sort_values('Total', ascending = True).reset_index(drop = True)\n",
    "\n",
    "# The dataframe\n",
    "df_category_title = df_join_final.groupby('category_title').agg({\n",
    "    'category_title': 'count',\n",
    "    'views': 'mean',\n",
    "    'likes': 'mean',\n",
    "    'dislikes': 'mean',\n",
    "    'comment_count': 'mean'\n",
    "    }\n",
    ").rename(columns = {'category_title': 'Total'}).reset_index().sort_values('Total', ascending = True)\n",
    "\n",
    "# plotnine.options.figure_size = (8, 4.8)\n",
    "# print(\n",
    "#     ggplot(data = df_category_title)+\n",
    "#     geom_bar(aes(x = 'category_title',\n",
    "#                  y = 'Total'),\n",
    "#              fill = np.where(df_category_title['category_title'] == 'Entertainment', '#981220', '#80797c'),\n",
    "#              stat = 'identity')+\n",
    "#     geom_text(aes(x = 'category_title',\n",
    "#                    y = 'Total',\n",
    "#                    label = 'Total'),\n",
    "#                size = 10,\n",
    "#                nudge_y = 350)+\n",
    "#     labs(title = 'Video Category that has the highest count')+\n",
    "#     xlab('category_title')+\n",
    "#     ylab('Frequency')+\n",
    "#     scale_x_discrete(limits = df_category_title['category_title'].tolist())+\n",
    "#     theme_minimal()+\n",
    "#     coord_flip()\n",
    "# )\n",
    "\n",
    "df_join_final['video_title']    = df_join_final['video_title'].astype(str)\n",
    "df_join_final['channel_title']  = df_join_final['channel_title'].astype(str)\n",
    "df_join_final['category_title'] = df_join_final['category_title'].astype(str)\n",
    "df_join_final['tags']           = df_join_final['tags'].astype(str)\n",
    "df_join_final['description']    = df_join_final['description'].astype(str)\n",
    "df_join_final['views']          = df_join_final['views'].astype(float)\n",
    "df_join_final['likes']          = df_join_final['likes'].astype(float)\n",
    "df_join_final['dislikes']       = df_join_final['dislikes'].astype(float)\n",
    "df_join_final['comment_count']  = df_join_final['comment_count'].astype(float)\n",
    "\n",
    "catColumnsPos = [df_join_final.columns.get_loc(col) for col in list(df_join_final.select_dtypes('object').columns)]\n",
    "# print('Categorical columns           : {}'.format(list(df_join_final.select_dtypes('object').columns)))\n",
    "# print('Categorical columns position  : {}'.format(catColumnsPos))\n",
    "\n",
    "dfMatrix = df_join_final.to_numpy()\n",
    "cost = []\n",
    "for cluster in tqdm(range(1, 6)):\n",
    "    kprototype = KPrototypes(n_jobs = -1, n_clusters = cluster, init = 'Huang', random_state = 0)\n",
    "    kprototype.fit_predict(dfMatrix, categorical = catColumnsPos)\n",
    "    cost.append(kprototype.cost_)\n",
    "    print('Cluster initiation: {}'.format(cluster))\n",
    "    \n"
   ]
  },
  {
   "cell_type": "code",
   "execution_count": 6,
   "id": "23be7ff3",
   "metadata": {},
   "outputs": [
    {
     "data": {
      "image/png": "[encoded data removed]",
      "text/plain": [
       "<Figure size 432x288 with 1 Axes>"
      ]
     },
     "metadata": {
      "needs_background": "light"
     },
     "output_type": "display_data"
    },
    {
     "data": {
      "text/plain": [
       "<ggplot: (165827346146)>"
      ]
     },
     "execution_count": 6,
     "metadata": {},
     "output_type": "execute_result"
    }
   ],
   "source": [
    "# Converting the results into a dataframe and plotting them\n",
    "df_cost = pd.DataFrame({'Cluster':range(1, 6), 'Cost':cost})\n",
    "# Data viz\n",
    "plotnine.options.figure_size = (8, 4.8)\n",
    "(\n",
    "    ggplot(data = df_cost)+\n",
    "    geom_line(aes(x = 'Cluster',\n",
    "                  y = 'Cost'))+\n",
    "    geom_point(aes(x = 'Cluster',\n",
    "                   y = 'Cost'))+\n",
    "    geom_label(aes(x = 'Cluster',\n",
    "                   y = 'Cost',\n",
    "                   label = 'Cluster'),\n",
    "               size = 10,\n",
    "               nudge_y = 1000) +\n",
    "    labs(title = 'Optimal number of cluster with Elbow Method')+\n",
    "    xlab('Number of Clusters k')+\n",
    "    ylab('Cost')+\n",
    "    theme_minimal()\n",
    ")"
   ]
  },
  {
   "cell_type": "code",
   "execution_count": 7,
   "id": "394b864a",
   "metadata": {},
   "outputs": [
    {
     "data": {
      "text/plain": [
       "array([1, 1, 1, ..., 1, 1, 1], dtype=uint16)"
      ]
     },
     "execution_count": 7,
     "metadata": {},
     "output_type": "execute_result"
    }
   ],
   "source": [
    "\n",
    "# Fit the cluster\n",
    "kprototype = KPrototypes(n_jobs = -1, n_clusters = 3, init = 'Huang', random_state = 0)\n",
    "kprototype.fit_predict(dfMatrix, categorical = catColumnsPos)"
   ]
  },
  {
   "cell_type": "code",
   "execution_count": 8,
   "id": "945d9d3d",
   "metadata": {},
   "outputs": [
    {
     "data": {
      "text/plain": [
       "array([['106243685.98979592', '2825262.4591836734', '222028.72448979592',\n",
       "        '376674.4081632653',\n",
       "        'Childish Gambino - This Is America (Official Video)',\n",
       "        'ChildishGambinoVEVO', 'Music',\n",
       "        'Childish Gambino|\"Rap\"|\"This Is America\"|\"mcDJ Recording/RCA Records\"',\n",
       "        '“This is America” by Childish Gambino http://smarturl.it/TcIgADirector: Hiro MuraiProducer: Jason Cole of Doomsday with Ibra Ake and Fam Rothstein of Wolf + Rothsteintour tickets and merchandise available at childishgambino.com'],\n",
       "       ['1365534.2113553484', '47735.44484400324', '2054.474827795786',\n",
       "        '5482.065083063209',\n",
       "        'WE MADE OUR MOM CRY...HER DREAM CAME TRUE!', 'ESPN',\n",
       "        'Entertainment', '[none]', 'None'],\n",
       "       ['23725366.094644167', '645116.8239178283', '36017.78283198826',\n",
       "        '67863.7461482025', 'Daddy Yankee - Hielo (Video Oficial)',\n",
       "        'Dude Perfect', 'Music', '[none]',\n",
       "        'Daddy Yankee - Hielo (Video Oficial)Spotify: https://goo.gl/LPP4j9Apple Music: https://goo.gl/s8omcvGoogle Play: https://goo.gl/d9V2VVTidal: https://goo.gl/44UiYxDeezer: https://goo.gl/11jHihFacebook-http://goo.gl/QYZ53aTwitter-http://goo.gl/AzaR8o Instagram-http://goo.gl/a6F7gz www.daddyyankee.comDaddy Yankee - Dura (Video Oficial)https://www.youtube.com/watch?v=sGIm0-dQd8MHIELOTe han contado mil cosas de miNo se equivocaron, te hablaron claroPero si quieres ganar mi corazónTiene algo malo, te hablaré claroYo soy hielo, hielo, hieloYo soy hielo, hielo, hieloYo soy hielo, hielo, hieloYo soy hielo, hielo, hielo Dijeron que en cuartel tienen una foto con mi nombrePorque desapareció un buen hombreAquel pasado yo lo maté Las gatas no caben en la piscina Parece la NASA mi marquesina Alquilo el amor sin dar propinaCambié por el poder de una vaginaYo no soy para ti tú no eres para mi no cabes en mi kingEn el juego de damas cuando una me llama la hago mi queen (Coroné!)De todo lo vivido ya aprendíLa realidad es que en el mundo vivimo asíQuieren al maloOdian al buenoDeje de ser un remedio ahora soy venenoQuieren al maloOdian al buenoTengo los sentimientos bajo ceroTe han contado mil cosas de miNo se equivocaron, te hablaron claroPero si quieres ganar mi corazónTiene algo malo, te hablaré claroYo soy hielo, hielo, hieloYo soy hielo, hielo, hieloYo soy hielo, hielo, hieloYo soy hielo, hielo, hielo No creo en caritas prettyCrudo como New York CityLas tratas primera clase y cogen viaje como spiritLo que no te mata te hace mas frío y mas cruelPréstame tu corazón pa’ congelarlo en el motel eh!Mi cansé de regalar mi confianzaDe tantas puñaladas me quedao’ sin espaldaQuien me haga algo le dejo las cuentas saldasJalé to’ el peso de la venganza a mi balanza porqueQuieren al maloOdian al buenoDeje de ser un remedio ahora soy venenoQuieren al maloOdian al buenoTengo los sentimientos bajo ceroTe han contado mil cosas de miNo se equivocaron, te hablaron claroPero si quieres ganar mi corazónTiene algo malo, te hablaré claroYo soy hielo, hielo, hieloYo soy hielo, hielo, hieloYo soy hielo, hielo, hieloYo soy hielo, hielo, hieloThis is the official Youtube channel from urban music legend, Daddy Yankee who has sold over 40 million records on his career. Major hits are Gasolina, Pose, Rompe, Dura, Despacito, among others. For product integration contact: info@nevarezpr.com']],\n",
       "      dtype='<U2386')"
      ]
     },
     "execution_count": 8,
     "metadata": {},
     "output_type": "execute_result"
    }
   ],
   "source": [
    "# Cluster centorid\n",
    "kprototype.cluster_centroids_\n"
   ]
  },
  {
   "cell_type": "code",
   "execution_count": 9,
   "id": "8a6941fd",
   "metadata": {},
   "outputs": [
    {
     "data": {
      "text/plain": [
       "17"
      ]
     },
     "execution_count": 9,
     "metadata": {},
     "output_type": "execute_result"
    }
   ],
   "source": [
    "# Check the iteration of the clusters created\n",
    "kprototype.n_iter_\n"
   ]
  },
  {
   "cell_type": "code",
   "execution_count": 10,
   "id": "442d3249",
   "metadata": {},
   "outputs": [
    {
     "data": {
      "text/plain": [
       "5.209146474296547e+17"
      ]
     },
     "execution_count": 10,
     "metadata": {},
     "output_type": "execute_result"
    }
   ],
   "source": [
    "# Check the cost of the clusters created\n",
    "kprototype.cost_"
   ]
  },
  {
   "cell_type": "code",
   "execution_count": 13,
   "id": "9b1b23c4",
   "metadata": {},
   "outputs": [
    {
     "data": {
      "text/html": [
       "<div>\n",
       "<style scoped>\n",
       "    .dataframe tbody tr th:only-of-type {\n",
       "        vertical-align: middle;\n",
       "    }\n",
       "\n",
       "    .dataframe tbody tr th {\n",
       "        vertical-align: top;\n",
       "    }\n",
       "\n",
       "    .dataframe thead th {\n",
       "        text-align: right;\n",
       "    }\n",
       "</style>\n",
       "<table border=\"1\" class=\"dataframe\">\n",
       "  <thead>\n",
       "    <tr style=\"text-align: right;\">\n",
       "      <th></th>\n",
       "      <th>video_title</th>\n",
       "      <th>channel_title</th>\n",
       "      <th>category_title</th>\n",
       "      <th>tags</th>\n",
       "      <th>views</th>\n",
       "      <th>likes</th>\n",
       "      <th>dislikes</th>\n",
       "      <th>comment_count</th>\n",
       "      <th>description</th>\n",
       "      <th>Cluster Labels</th>\n",
       "      <th>Segment</th>\n",
       "    </tr>\n",
       "  </thead>\n",
       "  <tbody>\n",
       "    <tr>\n",
       "      <th>0</th>\n",
       "      <td>WE WANT TO TALK ABOUT OUR MARRIAGE</td>\n",
       "      <td>CaseyNeistat</td>\n",
       "      <td>People &amp; Blogs</td>\n",
       "      <td>SHANtell martin</td>\n",
       "      <td>748374.0</td>\n",
       "      <td>57527.0</td>\n",
       "      <td>2966.0</td>\n",
       "      <td>15954.0</td>\n",
       "      <td>SHANTELL'S CHANNEL - https://www.youtube.com/s...</td>\n",
       "      <td>1</td>\n",
       "      <td>Second</td>\n",
       "    </tr>\n",
       "    <tr>\n",
       "      <th>1</th>\n",
       "      <td>Me-O Cats Commercial</td>\n",
       "      <td>Nobrand</td>\n",
       "      <td>People &amp; Blogs</td>\n",
       "      <td>cute|\"cats\"|\"thai\"|\"eggs\"</td>\n",
       "      <td>98966.0</td>\n",
       "      <td>2486.0</td>\n",
       "      <td>184.0</td>\n",
       "      <td>532.0</td>\n",
       "      <td>Kittens come out of the eggs in a Thai commerc...</td>\n",
       "      <td>1</td>\n",
       "      <td>Second</td>\n",
       "    </tr>\n",
       "    <tr>\n",
       "      <th>2</th>\n",
       "      <td>AFFAIRS, EX BOYFRIENDS, $18MILLION NET WORTH -...</td>\n",
       "      <td>Shawn Johnson East</td>\n",
       "      <td>People &amp; Blogs</td>\n",
       "      <td>shawn johnson|\"andrew east\"|\"shawn east\"|\"shaw...</td>\n",
       "      <td>321053.0</td>\n",
       "      <td>4451.0</td>\n",
       "      <td>1772.0</td>\n",
       "      <td>895.0</td>\n",
       "      <td>Subscribe for weekly videos ▶ http://bit.ly/sj...</td>\n",
       "      <td>1</td>\n",
       "      <td>Second</td>\n",
       "    </tr>\n",
       "    <tr>\n",
       "      <th>3</th>\n",
       "      <td>BLIND(folded) CAKE DECORATING CONTEST (with Mo...</td>\n",
       "      <td>Grace Helbig</td>\n",
       "      <td>People &amp; Blogs</td>\n",
       "      <td>itsgrace|\"funny\"|\"comedy\"|\"vlog\"|\"grace\"|\"helb...</td>\n",
       "      <td>197062.0</td>\n",
       "      <td>7250.0</td>\n",
       "      <td>217.0</td>\n",
       "      <td>456.0</td>\n",
       "      <td>Molly is an god damn amazing human and she cha...</td>\n",
       "      <td>1</td>\n",
       "      <td>Second</td>\n",
       "    </tr>\n",
       "    <tr>\n",
       "      <th>4</th>\n",
       "      <td>Wearing Online Dollar Store Makeup For A Week</td>\n",
       "      <td>Safiya Nygaard</td>\n",
       "      <td>People &amp; Blogs</td>\n",
       "      <td>wearing online dollar store makeup for a week|...</td>\n",
       "      <td>2744430.0</td>\n",
       "      <td>115426.0</td>\n",
       "      <td>1110.0</td>\n",
       "      <td>6541.0</td>\n",
       "      <td>I found this online dollar store called ShopMi...</td>\n",
       "      <td>1</td>\n",
       "      <td>Second</td>\n",
       "    </tr>\n",
       "    <tr>\n",
       "      <th>...</th>\n",
       "      <td>...</td>\n",
       "      <td>...</td>\n",
       "      <td>...</td>\n",
       "      <td>...</td>\n",
       "      <td>...</td>\n",
       "      <td>...</td>\n",
       "      <td>...</td>\n",
       "      <td>...</td>\n",
       "      <td>...</td>\n",
       "      <td>...</td>\n",
       "      <td>...</td>\n",
       "    </tr>\n",
       "    <tr>\n",
       "      <th>40944</th>\n",
       "      <td>Game of Zones - S5:E5: The Isle of Van Gundy</td>\n",
       "      <td>Bleacher Report</td>\n",
       "      <td>Shows</td>\n",
       "      <td>bleacher report|\"br\"|\"nba\"|\"Stan Van Gundy\"|\"J...</td>\n",
       "      <td>1324482.0</td>\n",
       "      <td>22413.0</td>\n",
       "      <td>608.0</td>\n",
       "      <td>1644.0</td>\n",
       "      <td>On an island full of Van Gundys, Stan gets tal...</td>\n",
       "      <td>1</td>\n",
       "      <td>Second</td>\n",
       "    </tr>\n",
       "    <tr>\n",
       "      <th>40945</th>\n",
       "      <td>Game of Zones - S5:E5: The Isle of Van Gundy</td>\n",
       "      <td>Bleacher Report</td>\n",
       "      <td>Shows</td>\n",
       "      <td>bleacher report|\"br\"|\"nba\"|\"Stan Van Gundy\"|\"J...</td>\n",
       "      <td>1332252.0</td>\n",
       "      <td>22461.0</td>\n",
       "      <td>610.0</td>\n",
       "      <td>1648.0</td>\n",
       "      <td>On an island full of Van Gundys, Stan gets tal...</td>\n",
       "      <td>1</td>\n",
       "      <td>Second</td>\n",
       "    </tr>\n",
       "    <tr>\n",
       "      <th>40946</th>\n",
       "      <td>Game of Zones - S5:E5: The Isle of Van Gundy</td>\n",
       "      <td>Bleacher Report</td>\n",
       "      <td>Shows</td>\n",
       "      <td>bleacher report|\"br\"|\"nba\"|\"Stan Van Gundy\"|\"J...</td>\n",
       "      <td>1340039.0</td>\n",
       "      <td>22504.0</td>\n",
       "      <td>615.0</td>\n",
       "      <td>1648.0</td>\n",
       "      <td>On an island full of Van Gundys, Stan gets tal...</td>\n",
       "      <td>1</td>\n",
       "      <td>Second</td>\n",
       "    </tr>\n",
       "    <tr>\n",
       "      <th>40947</th>\n",
       "      <td>Game of Zones - S5:E5: The Isle of Van Gundy</td>\n",
       "      <td>Bleacher Report</td>\n",
       "      <td>Shows</td>\n",
       "      <td>bleacher report|\"br\"|\"nba\"|\"Stan Van Gundy\"|\"J...</td>\n",
       "      <td>1345086.0</td>\n",
       "      <td>22542.0</td>\n",
       "      <td>615.0</td>\n",
       "      <td>1649.0</td>\n",
       "      <td>On an island full of Van Gundys, Stan gets tal...</td>\n",
       "      <td>1</td>\n",
       "      <td>Second</td>\n",
       "    </tr>\n",
       "    <tr>\n",
       "      <th>40948</th>\n",
       "      <td>Game of Zones - S5:E5: The Isle of Van Gundy</td>\n",
       "      <td>Bleacher Report</td>\n",
       "      <td>Shows</td>\n",
       "      <td>bleacher report|\"br\"|\"nba\"|\"Stan Van Gundy\"|\"J...</td>\n",
       "      <td>1351321.0</td>\n",
       "      <td>22587.0</td>\n",
       "      <td>616.0</td>\n",
       "      <td>1649.0</td>\n",
       "      <td>On an island full of Van Gundys, Stan gets tal...</td>\n",
       "      <td>1</td>\n",
       "      <td>Second</td>\n",
       "    </tr>\n",
       "  </tbody>\n",
       "</table>\n",
       "<p>40949 rows × 11 columns</p>\n",
       "</div>"
      ],
      "text/plain": [
       "                                             video_title       channel_title  \\\n",
       "0                     WE WANT TO TALK ABOUT OUR MARRIAGE        CaseyNeistat   \n",
       "1                                   Me-O Cats Commercial             Nobrand   \n",
       "2      AFFAIRS, EX BOYFRIENDS, $18MILLION NET WORTH -...  Shawn Johnson East   \n",
       "3      BLIND(folded) CAKE DECORATING CONTEST (with Mo...        Grace Helbig   \n",
       "4          Wearing Online Dollar Store Makeup For A Week      Safiya Nygaard   \n",
       "...                                                  ...                 ...   \n",
       "40944       Game of Zones - S5:E5: The Isle of Van Gundy     Bleacher Report   \n",
       "40945       Game of Zones - S5:E5: The Isle of Van Gundy     Bleacher Report   \n",
       "40946       Game of Zones - S5:E5: The Isle of Van Gundy     Bleacher Report   \n",
       "40947       Game of Zones - S5:E5: The Isle of Van Gundy     Bleacher Report   \n",
       "40948       Game of Zones - S5:E5: The Isle of Van Gundy     Bleacher Report   \n",
       "\n",
       "       category_title                                               tags  \\\n",
       "0      People & Blogs                                    SHANtell martin   \n",
       "1      People & Blogs                          cute|\"cats\"|\"thai\"|\"eggs\"   \n",
       "2      People & Blogs  shawn johnson|\"andrew east\"|\"shawn east\"|\"shaw...   \n",
       "3      People & Blogs  itsgrace|\"funny\"|\"comedy\"|\"vlog\"|\"grace\"|\"helb...   \n",
       "4      People & Blogs  wearing online dollar store makeup for a week|...   \n",
       "...               ...                                                ...   \n",
       "40944           Shows  bleacher report|\"br\"|\"nba\"|\"Stan Van Gundy\"|\"J...   \n",
       "40945           Shows  bleacher report|\"br\"|\"nba\"|\"Stan Van Gundy\"|\"J...   \n",
       "40946           Shows  bleacher report|\"br\"|\"nba\"|\"Stan Van Gundy\"|\"J...   \n",
       "40947           Shows  bleacher report|\"br\"|\"nba\"|\"Stan Van Gundy\"|\"J...   \n",
       "40948           Shows  bleacher report|\"br\"|\"nba\"|\"Stan Van Gundy\"|\"J...   \n",
       "\n",
       "           views     likes  dislikes  comment_count  \\\n",
       "0       748374.0   57527.0    2966.0        15954.0   \n",
       "1        98966.0    2486.0     184.0          532.0   \n",
       "2       321053.0    4451.0    1772.0          895.0   \n",
       "3       197062.0    7250.0     217.0          456.0   \n",
       "4      2744430.0  115426.0    1110.0         6541.0   \n",
       "...          ...       ...       ...            ...   \n",
       "40944  1324482.0   22413.0     608.0         1644.0   \n",
       "40945  1332252.0   22461.0     610.0         1648.0   \n",
       "40946  1340039.0   22504.0     615.0         1648.0   \n",
       "40947  1345086.0   22542.0     615.0         1649.0   \n",
       "40948  1351321.0   22587.0     616.0         1649.0   \n",
       "\n",
       "                                             description  Cluster Labels  \\\n",
       "0      SHANTELL'S CHANNEL - https://www.youtube.com/s...               1   \n",
       "1      Kittens come out of the eggs in a Thai commerc...               1   \n",
       "2      Subscribe for weekly videos ▶ http://bit.ly/sj...               1   \n",
       "3      Molly is an god damn amazing human and she cha...               1   \n",
       "4      I found this online dollar store called ShopMi...               1   \n",
       "...                                                  ...             ...   \n",
       "40944  On an island full of Van Gundys, Stan gets tal...               1   \n",
       "40945  On an island full of Van Gundys, Stan gets tal...               1   \n",
       "40946  On an island full of Van Gundys, Stan gets tal...               1   \n",
       "40947  On an island full of Van Gundys, Stan gets tal...               1   \n",
       "40948  On an island full of Van Gundys, Stan gets tal...               1   \n",
       "\n",
       "      Segment  \n",
       "0      Second  \n",
       "1      Second  \n",
       "2      Second  \n",
       "3      Second  \n",
       "4      Second  \n",
       "...       ...  \n",
       "40944  Second  \n",
       "40945  Second  \n",
       "40946  Second  \n",
       "40947  Second  \n",
       "40948  Second  \n",
       "\n",
       "[40949 rows x 11 columns]"
      ]
     },
     "execution_count": 13,
     "metadata": {},
     "output_type": "execute_result"
    }
   ],
   "source": [
    "# Add the cluster to the dataframe\n",
    "df_join_final['Cluster Labels'] = kprototype.labels_\n",
    "df_join_final['Segment'] = df_join_final['Cluster Labels'].map({0:'First', 1:'Second', 2:'Third'})\n",
    "# Order the cluster\n",
    "df_join_final['Segment'] = df_join_final['Segment'].astype('category')\n",
    "df_join_final['Segment'] = df_join_final['Segment'].cat.reorder_categories(['First','Second','Third'])\n",
    "df_join_final"
   ]
  },
  {
   "cell_type": "code",
   "execution_count": 15,
   "id": "1f2fcc28",
   "metadata": {},
   "outputs": [
    {
     "data": {
      "text/plain": [
       "video_title         object\n",
       "channel_title       object\n",
       "category_title      object\n",
       "tags                object\n",
       "views              float64\n",
       "likes              float64\n",
       "dislikes           float64\n",
       "comment_count      float64\n",
       "description         object\n",
       "Cluster Labels      uint16\n",
       "Segment           category\n",
       "dtype: object"
      ]
     },
     "execution_count": 15,
     "metadata": {},
     "output_type": "execute_result"
    }
   ],
   "source": [
    "df_join_final.dtypes\n",
    "# df_finals_agg = df_join_final.groupby(['video_title', 'tags', 'description', 'channel_title', 'category_title', 'Cluster Labels', 'Segment'])[['views', 'likes', 'dislikes', 'comment_count']].mean()\n",
    "# df_finals_agg"
   ]
  },
  {
   "cell_type": "code",
   "execution_count": 17,
   "id": "eb61cd11",
   "metadata": {},
   "outputs": [
    {
     "data": {
      "text/html": [
       "<div>\n",
       "<style scoped>\n",
       "    .dataframe tbody tr th:only-of-type {\n",
       "        vertical-align: middle;\n",
       "    }\n",
       "\n",
       "    .dataframe tbody tr th {\n",
       "        vertical-align: top;\n",
       "    }\n",
       "\n",
       "    .dataframe thead th {\n",
       "        text-align: right;\n",
       "    }\n",
       "</style>\n",
       "<table border=\"1\" class=\"dataframe\">\n",
       "  <thead>\n",
       "    <tr style=\"text-align: right;\">\n",
       "      <th></th>\n",
       "      <th>Segment</th>\n",
       "      <th>Total</th>\n",
       "      <th>channel_title</th>\n",
       "      <th>category_title</th>\n",
       "      <th>tags</th>\n",
       "      <th>views</th>\n",
       "      <th>likes</th>\n",
       "      <th>dislikes</th>\n",
       "      <th>comment_count</th>\n",
       "    </tr>\n",
       "  </thead>\n",
       "  <tbody>\n",
       "    <tr>\n",
       "      <th>0</th>\n",
       "      <td>First</td>\n",
       "      <td>98</td>\n",
       "      <td>ChildishGambinoVEVO</td>\n",
       "      <td>Music</td>\n",
       "      <td>Childish Gambino|\"Rap\"|\"This Is America\"|\"mcDJ...</td>\n",
       "      <td>1.062437e+08</td>\n",
       "      <td>2.825262e+06</td>\n",
       "      <td>222028.724490</td>\n",
       "      <td>376674.408163</td>\n",
       "    </tr>\n",
       "    <tr>\n",
       "      <th>1</th>\n",
       "      <td>Second</td>\n",
       "      <td>39488</td>\n",
       "      <td>ESPN</td>\n",
       "      <td>Entertainment</td>\n",
       "      <td>[none]</td>\n",
       "      <td>1.365534e+06</td>\n",
       "      <td>4.773544e+04</td>\n",
       "      <td>2054.474828</td>\n",
       "      <td>5482.065083</td>\n",
       "    </tr>\n",
       "    <tr>\n",
       "      <th>2</th>\n",
       "      <td>Third</td>\n",
       "      <td>1363</td>\n",
       "      <td>Dude Perfect</td>\n",
       "      <td>Music</td>\n",
       "      <td>[none]</td>\n",
       "      <td>2.372537e+07</td>\n",
       "      <td>6.451168e+05</td>\n",
       "      <td>36017.782832</td>\n",
       "      <td>67863.746148</td>\n",
       "    </tr>\n",
       "  </tbody>\n",
       "</table>\n",
       "</div>"
      ],
      "text/plain": [
       "  Segment  Total        channel_title category_title  \\\n",
       "0   First     98  ChildishGambinoVEVO          Music   \n",
       "1  Second  39488                 ESPN  Entertainment   \n",
       "2   Third   1363         Dude Perfect          Music   \n",
       "\n",
       "                                                tags         views  \\\n",
       "0  Childish Gambino|\"Rap\"|\"This Is America\"|\"mcDJ...  1.062437e+08   \n",
       "1                                             [none]  1.365534e+06   \n",
       "2                                             [none]  2.372537e+07   \n",
       "\n",
       "          likes       dislikes  comment_count  \n",
       "0  2.825262e+06  222028.724490  376674.408163  \n",
       "1  4.773544e+04    2054.474828    5482.065083  \n",
       "2  6.451168e+05   36017.782832   67863.746148  "
      ]
     },
     "execution_count": 17,
     "metadata": {},
     "output_type": "execute_result"
    }
   ],
   "source": [
    "# Cluster interpretation\n",
    "df_join_final.rename(columns = {'Cluster Labels':'Total'}, inplace = True)\n",
    "df_join_final.groupby('Segment').agg(\n",
    "    {\n",
    "        'Total':'count',\n",
    "        'channel_title': lambda x: x.value_counts().index[0],\n",
    "        'category_title': lambda x: x.value_counts().index[0],\n",
    "        'tags': lambda x: x.value_counts().index[0],\n",
    "        'views': 'mean',\n",
    "        'likes': 'mean',\n",
    "        'dislikes': 'mean',\n",
    "        'comment_count': 'mean'\n",
    "    }\n",
    ").reset_index()"
   ]
  },
  {
   "cell_type": "code",
   "execution_count": null,
   "id": "8a0213a0",
   "metadata": {},
   "outputs": [],
   "source": []
  }
 ],
 "metadata": {
  "kernelspec": {
   "display_name": "Python 3 (ipykernel)",
   "language": "python",
   "name": "python3"
  },
  "language_info": {
   "codemirror_mode": {
    "name": "ipython",
    "version": 3
   },
   "file_extension": ".py",
   "mimetype": "text/x-python",
   "name": "python",
   "nbconvert_exporter": "python",
   "pygments_lexer": "ipython3",
   "version": "3.9.7"
  }
 },
 "nbformat": 4,
 "nbformat_minor": 5
}
